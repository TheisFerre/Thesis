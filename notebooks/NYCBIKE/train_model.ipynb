{
 "cells": [
  {
   "cell_type": "code",
   "execution_count": 1,
   "source": [
    "import pandas as pd\n",
    "import numpy as np\n",
    "import os\n",
    "from src.data.process_dataset import load_csv_dataset, create_grid, create_grid_ids, correlation_adjacency_matrix, features_targets_and_externals, Dataset\n",
    "from src.data.encode_externals import encode_times\n",
    "from src.models.models import ExternalLSTM, GraphModel, CustomTemporalSignal, Encoder, Decoder, STGNNModel\n",
    "from torch_geometric_temporal.signal import StaticGraphTemporalSignal, temporal_signal_split\n",
    "import dill\n",
    "from torch_geometric_temporal.nn.recurrent import DCRNN\n",
    "import torch\n",
    "import torch.nn.functional as F"
   ],
   "outputs": [],
   "metadata": {}
  },
  {
   "cell_type": "code",
   "execution_count": 2,
   "source": [
    "open_file = open(\"/Users/theisferre/Documents/SPECIALE/Thesis/data/processed/202106-citibike-tripdata.pkl\", \"rb\")\n",
    "data = dill.load(open_file)\n",
    "train_dataset, test_dataset = Dataset.train_test_split(data)"
   ],
   "outputs": [],
   "metadata": {}
  },
  {
   "cell_type": "code",
   "execution_count": 32,
   "source": [
    "data.X.shape"
   ],
   "outputs": [
    {
     "output_type": "execute_result",
     "data": {
      "text/plain": [
       "(179, 69, 1)"
      ]
     },
     "metadata": {},
     "execution_count": 32
    }
   ],
   "metadata": {}
  },
  {
   "cell_type": "code",
   "execution_count": 3,
   "source": [
    "graph_model = GraphModel(node_in_features=1, num_nodes=69, node_out_features=8)\n",
    "weather_model = ExternalLSTM(data.weather_information.shape[-1], num_nodes=69)\n",
    "time_model = ExternalLSTM(data.time_encoding.shape[-1], num_nodes=69)"
   ],
   "outputs": [],
   "metadata": {}
  },
  {
   "cell_type": "code",
   "execution_count": 4,
   "source": [
    "data_graph = []\n",
    "data_weather = []\n",
    "data_time = []\n",
    "for i in range(len(train_dataset)):\n",
    "    dat, weather, time_enc = train_dataset[i]\n",
    "    data_graph.append(dat)\n",
    "    data_weather.append(weather)\n",
    "    data_time.append(time_enc)\n",
    "    if i > 5:\n",
    "        break\n"
   ],
   "outputs": [],
   "metadata": {}
  },
  {
   "cell_type": "code",
   "execution_count": 5,
   "source": [
    "cell_state_graph, hidden_state_graph = graph_model(data_graph)\n",
    "cell_state_weather, hidden_state_weather = weather_model(data_weather)\n",
    "cell_state_time, hidden_state_weather = time_model(data_time)"
   ],
   "outputs": [],
   "metadata": {}
  },
  {
   "cell_type": "code",
   "execution_count": 6,
   "source": [
    "print(f\"graph model shapes: {cell_state_graph.shape}, {hidden_state_graph.shape}\")\n",
    "print(f\"weather model shapes: {cell_state_weather.shape}, {hidden_state_weather.shape}\")\n",
    "print(f\"time model shapes: {cell_state_time.shape}, {hidden_state_weather.shape}\")"
   ],
   "outputs": [
    {
     "output_type": "stream",
     "name": "stdout",
     "text": [
      "graph model shapes: torch.Size([1, 552]), torch.Size([1, 552])\n",
      "weather model shapes: torch.Size([1, 552]), torch.Size([1, 552])\n",
      "time model shapes: torch.Size([1, 552]), torch.Size([1, 552])\n"
     ]
    }
   ],
   "metadata": {}
  },
  {
   "cell_type": "code",
   "execution_count": 7,
   "source": [
    "encoder = Encoder(\n",
    "    node_in_features=1,\n",
    "    num_nodes=69,\n",
    "    node_out_features=8,\n",
    "    time_features=data.time_encoding.shape[-1],\n",
    "    weather_features=data.weather_information.shape[-1],\n",
    "    hidden_size=64\n",
    ")\n",
    "\n",
    "decoder = Decoder(\n",
    "    node_out_features=8,\n",
    "    num_nodes=69\n",
    ")\n",
    "\n",
    "model = STGNNModel(encoder, decoder)"
   ],
   "outputs": [],
   "metadata": {}
  },
  {
   "cell_type": "code",
   "execution_count": 8,
   "source": [
    "cell_state_fused, hidden_state_fused = encoder(data_graph, data_weather, data_time)"
   ],
   "outputs": [],
   "metadata": {}
  },
  {
   "cell_type": "code",
   "execution_count": 23,
   "source": [
    "num_history = 4\n",
    "criterion = torch.nn.MSELoss()\n",
    "optimizer = torch.optim.Adam(model.parameters(), lr = 0.001)\n",
    "for EPOCH in range(50):\n",
    "    epoch_loss = 0\n",
    "    \n",
    "    for i in range(num_history, len(train_dataset)):\n",
    "        count = num_history\n",
    "        data_graph = []\n",
    "        data_weather = []\n",
    "        data_time = []\n",
    "        while count > 0:\n",
    "            \n",
    "            graph_data, weather, time_enc = train_dataset[i - count]\n",
    "\n",
    "            data_graph.append(graph_data)\n",
    "            data_weather.append(weather)\n",
    "            data_time.append(time_enc)\n",
    "\n",
    "            count -= 1\n",
    "        optimizer.zero_grad()\n",
    "        out, (hidden, cell) = model(data_graph, data_weather, data_time)\n",
    "        loss = criterion(train_dataset[i][0].x.reshape(1, 69), out)\n",
    "\n",
    "        epoch_loss += loss.item()\n",
    "        loss.backward()\n",
    "        optimizer.step()\n",
    "    print(epoch_loss)\n"
   ],
   "outputs": [
    {
     "output_type": "stream",
     "name": "stdout",
     "text": [
      "38902347.695373535\n",
      "36283846.99133301\n",
      "34044505.380371094\n",
      "32113777.197265625\n",
      "30434422.378173828\n",
      "28929526.017578125\n",
      "27564996.71484375\n",
      "26336232.771972656\n",
      "25229010.177734375\n",
      "24217284.365234375\n",
      "23295184.458984375\n",
      "22448109.55078125\n",
      "21662522.75390625\n",
      "20944823.512695312\n",
      "20315854.52734375\n",
      "19799935.904296875\n",
      "19381208.607910156\n",
      "18903001.575683594\n",
      "18412164.77783203\n",
      "18112621.92626953\n",
      "19119536.341796875\n",
      "20108726.66845703\n",
      "20182546.497070312\n",
      "20061253.306152344\n",
      "19764143.69580078\n",
      "19386045.11376953\n",
      "19041985.525878906\n",
      "18799719.36376953\n",
      "18444769.14013672\n",
      "18053726.045898438\n",
      "17684221.60986328\n",
      "17381299.950195312\n",
      "17109179.846679688\n",
      "16814313.466796875\n",
      "16538619.699707031\n",
      "16285750.161132812\n",
      "16118160.215332031\n",
      "15928487.703125\n",
      "15712604.963378906\n",
      "15504022.148925781\n",
      "15306247.554199219\n",
      "15135506.352539062\n",
      "14985343.233886719\n",
      "14820935.336914062\n",
      "14666248.395019531\n",
      "14521105.134765625\n",
      "14384724.334960938\n",
      "14257646.829589844\n",
      "14138338.965332031\n",
      "14025142.470214844\n"
     ]
    }
   ],
   "metadata": {}
  },
  {
   "cell_type": "code",
   "execution_count": 28,
   "source": [
    "train_dataset[i][0].x.reshape(-1, 69)"
   ],
   "outputs": [
    {
     "output_type": "execute_result",
     "data": {
      "text/plain": [
       "tensor([[3.1470e+03, 3.7510e+03, 3.7200e+02, 3.1000e+02, 4.4900e+02, 5.8200e+02,\n",
       "         2.2180e+03, 4.3140e+03, 4.5500e+02, 5.3000e+02, 1.2800e+02, 7.1600e+02,\n",
       "         1.5800e+03, 9.7000e+01, 3.1660e+03, 7.9800e+02, 9.2600e+02, 7.5500e+02,\n",
       "         1.6200e+02, 2.0400e+02, 1.2580e+03, 2.0800e+02, 8.6300e+02, 6.2000e+01,\n",
       "         1.0470e+03, 1.9400e+02, 1.2650e+03, 5.3000e+01, 4.1500e+02, 1.5690e+03,\n",
       "         2.6500e+03, 3.2700e+02, 8.0400e+02, 7.1000e+01, 5.6000e+02, 2.3400e+02,\n",
       "         1.3500e+02, 8.2500e+02, 5.4000e+01, 4.2400e+02, 3.3000e+01, 3.6000e+01,\n",
       "         1.0200e+02, 8.4300e+02, 2.1900e+02, 6.9000e+01, 4.3800e+02, 2.2000e+01,\n",
       "         2.0000e+01, 1.1000e+02, 1.0500e+02, 1.2900e+02, 6.3000e+01, 2.2000e+01,\n",
       "         3.1600e+02, 2.2200e+02, 6.8100e+02, 1.2200e+02, 1.1600e+02, 7.7000e+01,\n",
       "         4.9000e+01, 1.1800e+02, 2.9000e+01, 6.6000e+01, 2.7400e+02, 1.4000e+01,\n",
       "         1.4000e+01, 2.0000e+00, 3.0000e+00]])"
      ]
     },
     "metadata": {},
     "execution_count": 28
    }
   ],
   "metadata": {}
  },
  {
   "cell_type": "code",
   "execution_count": 24,
   "source": [
    "out"
   ],
   "outputs": [
    {
     "output_type": "execute_result",
     "data": {
      "text/plain": [
       "tensor([[9.3937e+02, 1.1260e+03, 1.2480e+02, 1.5172e+02, 2.0407e+02, 2.6598e+02,\n",
       "         7.6112e+02, 1.1229e+03, 1.6712e+02, 2.2028e+02, 6.0180e+01, 3.4024e+02,\n",
       "         7.0483e+02, 5.0670e+01, 8.8920e+02, 3.7179e+02, 4.1900e+02, 3.3010e+02,\n",
       "         7.0750e+01, 8.5250e+01, 5.1337e+02, 1.1423e+02, 4.0493e+02, 2.7798e+01,\n",
       "         5.4362e+02, 8.6623e+01, 5.1305e+02, 3.1851e+01, 1.8452e+02, 6.3607e+02,\n",
       "         9.2732e+02, 1.6285e+02, 3.7495e+02, 2.7667e+01, 2.3447e+02, 1.0955e+02,\n",
       "         4.5538e+01, 2.8532e+02, 2.6618e+01, 2.0892e+02, 1.8396e+01, 1.6028e+01,\n",
       "         4.1424e+01, 3.4911e+02, 1.1317e+02, 4.2365e+01, 1.7412e+02, 1.2909e+01,\n",
       "         7.3460e+00, 5.8989e+01, 5.6845e+01, 5.3196e+01, 2.1942e+01, 1.3973e+01,\n",
       "         1.4238e+02, 8.6082e+01, 2.4314e+02, 5.1823e+01, 3.9697e+01, 4.4273e+01,\n",
       "         2.4008e+01, 4.6208e+01, 1.4531e+01, 3.3986e+01, 1.1814e+02, 4.5745e+00,\n",
       "         8.7140e+00, 1.8612e+00, 5.4499e-01]], grad_fn=<AddmmBackward>)"
      ]
     },
     "metadata": {},
     "execution_count": 24
    }
   ],
   "metadata": {}
  },
  {
   "cell_type": "code",
   "execution_count": 10,
   "source": [
    "print(cell_state_fused.shape)"
   ],
   "outputs": [
    {
     "output_type": "stream",
     "name": "stdout",
     "text": [
      "torch.Size([1, 552])\n"
     ]
    }
   ],
   "metadata": {}
  },
  {
   "cell_type": "code",
   "execution_count": 15,
   "source": [
    "out, (hidden_state, cell_state) = decoder(data_graph[-1].x.reshape(1, 69), hidden_state_fused.unsqueeze(0), cell_state_fused.unsqueeze(0))"
   ],
   "outputs": [],
   "metadata": {}
  },
  {
   "cell_type": "code",
   "execution_count": null,
   "source": [],
   "outputs": [],
   "metadata": {}
  }
 ],
 "metadata": {
  "orig_nbformat": 4,
  "language_info": {
   "name": "python",
   "version": "3.8.11",
   "mimetype": "text/x-python",
   "codemirror_mode": {
    "name": "ipython",
    "version": 3
   },
   "pygments_lexer": "ipython3",
   "nbconvert_exporter": "python",
   "file_extension": ".py"
  },
  "kernelspec": {
   "name": "python3",
   "display_name": "Python 3.8.11 64-bit ('venv-thesis': conda)"
  },
  "interpreter": {
   "hash": "65881dcde69e56a7e81eef65fc0a72a70a51b5080168a1c30d075ddd71a0873c"
  }
 },
 "nbformat": 4,
 "nbformat_minor": 2
}